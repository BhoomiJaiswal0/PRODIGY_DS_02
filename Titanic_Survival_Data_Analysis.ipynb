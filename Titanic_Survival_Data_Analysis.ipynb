{
  "nbformat": 4,
  "nbformat_minor": 0,
  "metadata": {
    "colab": {
      "provenance": []
    },
    "kernelspec": {
      "name": "python3",
      "display_name": "Python 3"
    },
    "language_info": {
      "name": "python"
    }
  },
  "cells": [
    {
      "cell_type": "markdown",
      "source": [
        "# 🚢 Titanic Survival Data Analysis  \n",
        "\n",
        "This project is part of my data science internship at **Prodigy InfoTech**. In this task, I performed **data cleaning and exploratory data analysis (EDA)** on the famous **Titanic dataset** to uncover survival trends based on features like gender, age, passenger class, and more.\n",
        "\n",
        "---\n",
        "\n",
        "### 🧰 Tools Used:\n",
        "- Python  \n",
        "- Pandas  \n",
        "- Seaborn  \n",
        "- Matplotlib  \n",
        "\n",
        "---\n",
        "\n",
        "### 📌 Goals:\n",
        "- Inspect and understand the structure of the dataset  \n",
        "- Handle missing values and perform feature engineering  \n",
        "- Explore and visualize patterns in survival rates  \n",
        "- Analyze the impact of variables like **sex**, **Pclass**, **AgeGroup**, **Title**, and **FamilySize** on survival  \n",
        "\n",
        "---\n",
        "\n",
        "### 🔍 Key Tasks:\n",
        "- Extracted new features like `Title`, `TicketPrefix`, `FamilySize`, and `FareBand`  \n",
        "- Grouped rare categories under ‘Other’ for clarity  \n",
        "- Created visualizations (bar plots, histograms, heatmaps) to reveal trends  \n",
        "- Compared survival rates across age groups, titles, family categories, etc.\n"
      ],
      "metadata": {
        "id": "70cWs4H_Ghrn"
      }
    },
    {
      "cell_type": "markdown",
      "source": [
        "## Step 1: Import Libraries & Upload Dataset\n",
        "\n",
        "We import necessary libraries and upload the Titanic dataset directly from our computer into the notebook. This way, we can start exploring our local data easily.\n"
      ],
      "metadata": {
        "id": "FLYx0H-SJrOT"
      }
    },
    {
      "cell_type": "code",
      "source": [
        "import pandas as pd\n",
        "import seaborn as sns\n",
        "import matplotlib.pyplot as plt\n",
        "from google.colab import files\n",
        "\n",
        "uploaded = files.upload()\n",
        "\n",
        "titanic_df = pd.read_csv(list(uploaded.keys())[0])\n",
        "\n",
        "titanic_df.head()\n"
      ],
      "metadata": {
        "colab": {
          "base_uri": "https://localhost:8080/",
          "height": 38
        },
        "id": "EpyZCNtRJPWa",
        "outputId": "4d036cf1-5b88-4dad-8bf8-87f34e3e5fcd"
      },
      "execution_count": null,
      "outputs": [
        {
          "output_type": "display_data",
          "data": {
            "text/plain": [
              "<IPython.core.display.HTML object>"
            ],
            "text/html": [
              "\n",
              "     <input type=\"file\" id=\"files-36a9f1fe-f109-4b75-b428-81b083839d94\" name=\"files[]\" multiple disabled\n",
              "        style=\"border:none\" />\n",
              "     <output id=\"result-36a9f1fe-f109-4b75-b428-81b083839d94\">\n",
              "      Upload widget is only available when the cell has been executed in the\n",
              "      current browser session. Please rerun this cell to enable.\n",
              "      </output>\n",
              "      <script>// Copyright 2017 Google LLC\n",
              "//\n",
              "// Licensed under the Apache License, Version 2.0 (the \"License\");\n",
              "// you may not use this file except in compliance with the License.\n",
              "// You may obtain a copy of the License at\n",
              "//\n",
              "//      http://www.apache.org/licenses/LICENSE-2.0\n",
              "//\n",
              "// Unless required by applicable law or agreed to in writing, software\n",
              "// distributed under the License is distributed on an \"AS IS\" BASIS,\n",
              "// WITHOUT WARRANTIES OR CONDITIONS OF ANY KIND, either express or implied.\n",
              "// See the License for the specific language governing permissions and\n",
              "// limitations under the License.\n",
              "\n",
              "/**\n",
              " * @fileoverview Helpers for google.colab Python module.\n",
              " */\n",
              "(function(scope) {\n",
              "function span(text, styleAttributes = {}) {\n",
              "  const element = document.createElement('span');\n",
              "  element.textContent = text;\n",
              "  for (const key of Object.keys(styleAttributes)) {\n",
              "    element.style[key] = styleAttributes[key];\n",
              "  }\n",
              "  return element;\n",
              "}\n",
              "\n",
              "// Max number of bytes which will be uploaded at a time.\n",
              "const MAX_PAYLOAD_SIZE = 100 * 1024;\n",
              "\n",
              "function _uploadFiles(inputId, outputId) {\n",
              "  const steps = uploadFilesStep(inputId, outputId);\n",
              "  const outputElement = document.getElementById(outputId);\n",
              "  // Cache steps on the outputElement to make it available for the next call\n",
              "  // to uploadFilesContinue from Python.\n",
              "  outputElement.steps = steps;\n",
              "\n",
              "  return _uploadFilesContinue(outputId);\n",
              "}\n",
              "\n",
              "// This is roughly an async generator (not supported in the browser yet),\n",
              "// where there are multiple asynchronous steps and the Python side is going\n",
              "// to poll for completion of each step.\n",
              "// This uses a Promise to block the python side on completion of each step,\n",
              "// then passes the result of the previous step as the input to the next step.\n",
              "function _uploadFilesContinue(outputId) {\n",
              "  const outputElement = document.getElementById(outputId);\n",
              "  const steps = outputElement.steps;\n",
              "\n",
              "  const next = steps.next(outputElement.lastPromiseValue);\n",
              "  return Promise.resolve(next.value.promise).then((value) => {\n",
              "    // Cache the last promise value to make it available to the next\n",
              "    // step of the generator.\n",
              "    outputElement.lastPromiseValue = value;\n",
              "    return next.value.response;\n",
              "  });\n",
              "}\n",
              "\n",
              "/**\n",
              " * Generator function which is called between each async step of the upload\n",
              " * process.\n",
              " * @param {string} inputId Element ID of the input file picker element.\n",
              " * @param {string} outputId Element ID of the output display.\n",
              " * @return {!Iterable<!Object>} Iterable of next steps.\n",
              " */\n",
              "function* uploadFilesStep(inputId, outputId) {\n",
              "  const inputElement = document.getElementById(inputId);\n",
              "  inputElement.disabled = false;\n",
              "\n",
              "  const outputElement = document.getElementById(outputId);\n",
              "  outputElement.innerHTML = '';\n",
              "\n",
              "  const pickedPromise = new Promise((resolve) => {\n",
              "    inputElement.addEventListener('change', (e) => {\n",
              "      resolve(e.target.files);\n",
              "    });\n",
              "  });\n",
              "\n",
              "  const cancel = document.createElement('button');\n",
              "  inputElement.parentElement.appendChild(cancel);\n",
              "  cancel.textContent = 'Cancel upload';\n",
              "  const cancelPromise = new Promise((resolve) => {\n",
              "    cancel.onclick = () => {\n",
              "      resolve(null);\n",
              "    };\n",
              "  });\n",
              "\n",
              "  // Wait for the user to pick the files.\n",
              "  const files = yield {\n",
              "    promise: Promise.race([pickedPromise, cancelPromise]),\n",
              "    response: {\n",
              "      action: 'starting',\n",
              "    }\n",
              "  };\n",
              "\n",
              "  cancel.remove();\n",
              "\n",
              "  // Disable the input element since further picks are not allowed.\n",
              "  inputElement.disabled = true;\n",
              "\n",
              "  if (!files) {\n",
              "    return {\n",
              "      response: {\n",
              "        action: 'complete',\n",
              "      }\n",
              "    };\n",
              "  }\n",
              "\n",
              "  for (const file of files) {\n",
              "    const li = document.createElement('li');\n",
              "    li.append(span(file.name, {fontWeight: 'bold'}));\n",
              "    li.append(span(\n",
              "        `(${file.type || 'n/a'}) - ${file.size} bytes, ` +\n",
              "        `last modified: ${\n",
              "            file.lastModifiedDate ? file.lastModifiedDate.toLocaleDateString() :\n",
              "                                    'n/a'} - `));\n",
              "    const percent = span('0% done');\n",
              "    li.appendChild(percent);\n",
              "\n",
              "    outputElement.appendChild(li);\n",
              "\n",
              "    const fileDataPromise = new Promise((resolve) => {\n",
              "      const reader = new FileReader();\n",
              "      reader.onload = (e) => {\n",
              "        resolve(e.target.result);\n",
              "      };\n",
              "      reader.readAsArrayBuffer(file);\n",
              "    });\n",
              "    // Wait for the data to be ready.\n",
              "    let fileData = yield {\n",
              "      promise: fileDataPromise,\n",
              "      response: {\n",
              "        action: 'continue',\n",
              "      }\n",
              "    };\n",
              "\n",
              "    // Use a chunked sending to avoid message size limits. See b/62115660.\n",
              "    let position = 0;\n",
              "    do {\n",
              "      const length = Math.min(fileData.byteLength - position, MAX_PAYLOAD_SIZE);\n",
              "      const chunk = new Uint8Array(fileData, position, length);\n",
              "      position += length;\n",
              "\n",
              "      const base64 = btoa(String.fromCharCode.apply(null, chunk));\n",
              "      yield {\n",
              "        response: {\n",
              "          action: 'append',\n",
              "          file: file.name,\n",
              "          data: base64,\n",
              "        },\n",
              "      };\n",
              "\n",
              "      let percentDone = fileData.byteLength === 0 ?\n",
              "          100 :\n",
              "          Math.round((position / fileData.byteLength) * 100);\n",
              "      percent.textContent = `${percentDone}% done`;\n",
              "\n",
              "    } while (position < fileData.byteLength);\n",
              "  }\n",
              "\n",
              "  // All done.\n",
              "  yield {\n",
              "    response: {\n",
              "      action: 'complete',\n",
              "    }\n",
              "  };\n",
              "}\n",
              "\n",
              "scope.google = scope.google || {};\n",
              "scope.google.colab = scope.google.colab || {};\n",
              "scope.google.colab._files = {\n",
              "  _uploadFiles,\n",
              "  _uploadFilesContinue,\n",
              "};\n",
              "})(self);\n",
              "</script> "
            ]
          },
          "metadata": {}
        }
      ]
    },
    {
      "cell_type": "markdown",
      "source": [
        "## Step 2: Data Inspection & Summary Statistics\n",
        "\n",
        "We explore the dataset's size, column data types, and identify missing values. Summary statistics help us understand the numerical columns like Age and Fare, revealing potential data cleaning needs.\n"
      ],
      "metadata": {
        "id": "FbYOD8RnJvW2"
      }
    },
    {
      "cell_type": "code",
      "source": [
        "print(\"Dataset shape:\", titanic_df.shape)\n",
        "\n",
        "print(\"\\nInfo:\")\n",
        "titanic_df.info()\n",
        "\n",
        "print(\"\\nSummary statistics:\")\n",
        "titanic_df.describe()\n",
        "\n",
        "print(\"\\nMissing values per column:\")\n",
        "print(titanic_df.isnull().sum())\n"
      ],
      "metadata": {
        "id": "wdMRYC-3JyIJ"
      },
      "execution_count": null,
      "outputs": []
    },
    {
      "cell_type": "markdown",
      "source": [
        "## Step 3: Handle Missing Values\n",
        "\n",
        "We fill missing Age values with the median age and missing Embarked values with the most common port. The Cabin column has too many missing values and is dropped to keep the dataset clean.\n"
      ],
      "metadata": {
        "id": "NisVgy1_KHtV"
      }
    },
    {
      "cell_type": "code",
      "source": [
        "titanic_df['Age'] = titanic_df['Age'].fillna(titanic_df['Age'].median())\n",
        "titanic_df['Embarked'] = titanic_df['Embarked'].fillna(titanic_df['Embarked'].mode()[0])\n",
        "\n",
        "if 'Cabin' in titanic_df.columns:\n",
        "    titanic_df = titanic_df.drop(columns=['Cabin'])\n"
      ],
      "metadata": {
        "id": "_QVrS798Kbo3"
      },
      "execution_count": null,
      "outputs": []
    },
    {
      "cell_type": "markdown",
      "source": [
        "## Step 4: Feature Engineering\n",
        "\n",
        "We extract the passenger's Title from the Name column, grouping rare titles into 'Other' to reduce complexity. We create `FamilySize` to represent total family aboard, `AgeGroup` to categorize passengers by age ranges, and `FareBand` to segment fare prices into quartiles. These engineered features help reveal patterns in survival analysis.\n"
      ],
      "metadata": {
        "id": "QZzp0yPUKjXu"
      }
    },
    {
      "cell_type": "code",
      "source": [
        "titanic_df['Title'] = titanic_df['Name'].str.extract(' ([A-Za-z]+)\\.', expand=False)\n",
        "\n",
        "rare_titles = ['Lady', 'Countess', 'Capt', 'Col', 'Don', 'Dr', 'Major',\n",
        "               'Rev', 'Sir', 'Jonkheer', 'Dona']\n",
        "titanic_df['Title'] = titanic_df['Title'].replace(rare_titles, 'Other')\n",
        "\n",
        "titanic_df['FamilySize'] = titanic_df['SibSp'] + titanic_df['Parch'] + 1\n",
        "\n",
        "bins = [0, 12, 20, 40, 60, 80]\n",
        "labels = ['Child', 'Teen', 'Adult', 'Senior', 'Elder']\n",
        "titanic_df['AgeGroup'] = pd.cut(titanic_df['Age'], bins=bins, labels=labels)\n",
        "\n",
        "titanic_df['FareBand'] = pd.qcut(titanic_df['Fare'], 4, labels=[1, 2, 3, 4])\n"
      ],
      "metadata": {
        "id": "_6iYHCJ3KlFe"
      },
      "execution_count": null,
      "outputs": []
    },
    {
      "cell_type": "markdown",
      "source": [
        "## Step 5: Survival Rates by Features\n",
        "\n",
        "We calculate average survival rates grouped by Title, FamilySize, AgeGroup, and FareBand to identify how these factors influenced survival chances.\n"
      ],
      "metadata": {
        "id": "2WZPhC_GK8-R"
      }
    },
    {
      "cell_type": "code",
      "source": [
        "import numpy as np\n",
        "\n",
        "print(titanic_df.groupby('Title')['Survived'].mean())\n",
        "print()\n",
        "print(titanic_df.groupby('FamilySize')['Survived'].mean())\n",
        "print()\n",
        "print(titanic_df.groupby('AgeGroup')['Survived'].mean())\n",
        "print()\n",
        "print(titanic_df.groupby('FareBand')['Survived'].mean())\n"
      ],
      "metadata": {
        "id": "6rrE5u_yK96i"
      },
      "execution_count": null,
      "outputs": []
    },
    {
      "cell_type": "code",
      "source": [
        "print(titanic_df.groupby('AgeGroup', observed=True)['Survived'].mean())\n",
        "print()\n",
        "print(titanic_df.groupby('FareBand', observed=True)['Survived'].mean())\n"
      ],
      "metadata": {
        "id": "InEDlk8LMve6"
      },
      "execution_count": null,
      "outputs": []
    },
    {
      "cell_type": "markdown",
      "source": [
        "## Step 6: Visualize Survival Rates\n",
        "\n",
        "Bar plots show how survival chances vary by Title, Family Size, Age Group, and Fare Band, helping us visually identify important patterns.\n"
      ],
      "metadata": {
        "id": "G_cw0RoNM-Oa"
      }
    },
    {
      "cell_type": "code",
      "source": [
        "sns.barplot(x='Title', y='Survived', data=titanic_df)\n",
        "plt.title('Survival Rate by Title')\n",
        "plt.show()\n",
        "\n",
        "sns.barplot(x='FamilySize', y='Survived', data=titanic_df)\n",
        "plt.title('Survival Rate by Family Size')\n",
        "plt.show()\n",
        "\n",
        "sns.barplot(x='AgeGroup', y='Survived', data=titanic_df)\n",
        "plt.title('Survival Rate by Age Group')\n",
        "plt.show()\n",
        "\n",
        "sns.barplot(x='FareBand', y='Survived', data=titanic_df)\n",
        "plt.title('Survival Rate by Fare Band')\n",
        "plt.show()\n"
      ],
      "metadata": {
        "id": "PkkL4TpqM9yd"
      },
      "execution_count": null,
      "outputs": []
    },
    {
      "cell_type": "markdown",
      "source": [
        "## Step 7: Prepare Data for Modeling\n",
        "\n",
        "We select relevant features, encode categorical variables using one-hot encoding, and split the data into training and testing sets to build a predictive model.\n"
      ],
      "metadata": {
        "id": "kU0O4lyHPN-L"
      }
    },
    {
      "cell_type": "code",
      "source": [
        "from sklearn.model_selection import train_test_split\n",
        "\n",
        "features = titanic_df.drop(['Survived', 'PassengerId', 'Name', 'Ticket'], axis=1)\n",
        "target = titanic_df['Survived']\n",
        "\n",
        "features = pd.get_dummies(features)\n",
        "\n",
        "X_train, X_test, y_train, y_test = train_test_split(features, target, test_size=0.2, random_state=42)\n"
      ],
      "metadata": {
        "id": "XYEs9RabPD0s"
      },
      "execution_count": null,
      "outputs": []
    },
    {
      "cell_type": "markdown",
      "source": [
        "## Step 8: Build and Evaluate Logistic Regression Model\n",
        "\n",
        "We train a logistic regression model on the training data, then predict survival on the test set.  \n",
        "Accuracy and classification report help assess model performance.\n"
      ],
      "metadata": {
        "id": "AY8aMw3WPb3A"
      }
    },
    {
      "cell_type": "code",
      "source": [
        "from sklearn.linear_model import LogisticRegression\n",
        "from sklearn.metrics import accuracy_score, classification_report\n",
        "\n",
        "model = LogisticRegression(max_iter=200)\n",
        "model.fit(X_train, y_train)\n",
        "\n",
        "y_pred = model.predict(X_test)\n",
        "\n",
        "accuracy = accuracy_score(y_test, y_pred)\n",
        "print(f\"Accuracy: {accuracy:.2f}\")\n",
        "\n",
        "print(\"\\nClassification Report:\\n\", classification_report(y_test, y_pred))\n"
      ],
      "metadata": {
        "id": "fuWwAO3EPc8C"
      },
      "execution_count": null,
      "outputs": []
    },
    {
      "cell_type": "markdown",
      "source": [
        "## Step 9: Save the Trained Model\n",
        "\n",
        "We save the trained logistic regression model to a file for future use without retraining.\n"
      ],
      "metadata": {
        "id": "mva0zt08Pslv"
      }
    },
    {
      "cell_type": "code",
      "source": [
        "import joblib\n",
        "\n",
        "joblib.dump(model, 'titanic_logistic_model.pkl')\n"
      ],
      "metadata": {
        "id": "4tQHZmD3Pu4v"
      },
      "execution_count": null,
      "outputs": []
    },
    {
      "cell_type": "code",
      "source": [
        "from google.colab import files\n",
        "files.download('titanic_logistic_model.pkl')\n"
      ],
      "metadata": {
        "id": "BI0pbRlCP4pS"
      },
      "execution_count": null,
      "outputs": []
    },
    {
      "cell_type": "markdown",
      "source": [
        "### 🧮 Survival Count by Gender\n",
        "\n",
        "This bar chart compares the number of passengers who survived and who did not, grouped by gender. It helps visualize how survival chances varied between male and female passengers.\n"
      ],
      "metadata": {
        "id": "VKT2xaO1QXtF"
      }
    },
    {
      "cell_type": "code",
      "source": [
        "sns.countplot(x='Sex', hue='Survived', data=titanic_df)\n",
        "plt.title('Survival Count by Gender')\n",
        "plt.xlabel('Gender')\n",
        "plt.ylabel('Passenger Count')\n",
        "plt.legend(title='Survived', labels=['No', 'Yes'])\n",
        "plt.show()"
      ],
      "metadata": {
        "id": "So1s8BJDQW8d"
      },
      "execution_count": null,
      "outputs": []
    },
    {
      "cell_type": "markdown",
      "source": [
        "### 🚢 Survival Rate by Passenger Class\n",
        "\n",
        "This bar plot shows the average survival rate for passengers in each class. It highlights the impact of socio-economic status on survival, with higher survival rates typically seen in 1st class.\n"
      ],
      "metadata": {
        "id": "IEIN7eRsQq9t"
      }
    },
    {
      "cell_type": "code",
      "source": [
        "sns.barplot(x='Pclass', y='Survived', data=titanic_df)\n",
        "plt.title('Survival Rate by Passenger Class')\n",
        "plt.xlabel('Passenger Class')\n",
        "plt.ylabel('Survival Rate')\n",
        "plt.ylim(0, 1)\n",
        "plt.show()\n"
      ],
      "metadata": {
        "id": "KfE7lodiQrnD"
      },
      "execution_count": null,
      "outputs": []
    },
    {
      "cell_type": "markdown",
      "source": [
        "### 👶🧓 Survival Rate by Age Group\n",
        "\n",
        "This bar chart displays the survival rates across different age categories. It helps us understand how age influenced the likelihood of survival.\n"
      ],
      "metadata": {
        "id": "CnmiEOVVQ1QD"
      }
    },
    {
      "cell_type": "code",
      "source": [
        "sns.barplot(x='AgeGroup', y='Survived', data=titanic_df, order=['Child', 'Teen', 'Adult', 'Senior', 'Elder'])\n",
        "plt.title('Survival Rate by Age Group')\n",
        "plt.xlabel('Age Group')\n",
        "plt.ylabel('Survival Rate')\n",
        "plt.ylim(0, 1)\n",
        "plt.show()\n"
      ],
      "metadata": {
        "id": "LBehu1i8Q27d"
      },
      "execution_count": null,
      "outputs": []
    },
    {
      "cell_type": "markdown",
      "source": [
        "### 💰 Survival Rate by Fare Band\n",
        "\n",
        "This chart shows how passengers paying higher fares generally had a better chance of survival. The FareBand ranges from 1 (lowest fare) to 4 (highest).\n"
      ],
      "metadata": {
        "id": "oeC6VnA0Q_qB"
      }
    },
    {
      "cell_type": "code",
      "source": [
        "sns.barplot(x='FareBand', y='Survived', data=titanic_df)\n",
        "plt.title('Survival Rate by Fare Band')\n",
        "plt.xlabel('Fare Band (1 = Lowest, 4 = Highest)')\n",
        "plt.ylabel('Survival Rate')\n",
        "plt.ylim(0, 1)\n",
        "plt.show()"
      ],
      "metadata": {
        "id": "UmrcfQQgRAjV"
      },
      "execution_count": null,
      "outputs": []
    },
    {
      "cell_type": "markdown",
      "source": [
        "### 👶🧓 Survival Rate by Age Group\n",
        "\n",
        "This bar plot displays the survival rate for different age groups. It provides insights into which age categories had higher survival chances during the Titanic disaster.\n"
      ],
      "metadata": {
        "id": "yX_eCWEgRHk0"
      }
    },
    {
      "cell_type": "code",
      "source": [
        "sns.barplot(x='AgeGroup', y='Survived', data=titanic_df, order=['Child', 'Teen', 'Adult', 'Senior', 'Elder'])\n",
        "plt.title('Survival Rate by Age Group')\n",
        "plt.xlabel('Age Group')\n",
        "plt.ylabel('Survival Rate')\n",
        "plt.ylim(0, 1)\n",
        "plt.show()\n"
      ],
      "metadata": {
        "id": "TekH459kRILm"
      },
      "execution_count": null,
      "outputs": []
    },
    {
      "cell_type": "markdown",
      "source": [
        "# Titanic Data Analysis Project - Summary\n",
        "\n",
        "In this project, I performed exploratory data analysis on the Titanic dataset to uncover patterns influencing passenger survival. Key factors such as age, fare, and family size showed significant impact on survival rates.\n",
        "\n",
        "I built a logistic regression model which achieved about 80% accuracy in predicting survival, demonstrating the effectiveness of this approach.\n",
        "\n",
        "This project highlights how data cleaning, feature engineering, visualization, and modeling come together in a typical data science workflow.\n",
        "\n",
        "---\n",
        "\n",
        "Thank You!\n"
      ],
      "metadata": {
        "id": "0zbF6Ii3RuBR"
      }
    }
  ]
}